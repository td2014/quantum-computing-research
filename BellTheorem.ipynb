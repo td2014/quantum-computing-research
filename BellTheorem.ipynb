{
 "cells": [
  {
   "cell_type": "markdown",
   "metadata": {},
   "source": [
    "# Notes on research into the Bell theorem"
   ]
  },
  {
   "cell_type": "markdown",
   "metadata": {},
   "source": [
    "### Outline\n",
    "\n",
    "- Overview  \n",
    "- Bell's arguments  \n",
    "- EPR paradox  \n",
    "- Bohm's hidden variables  \n",
    "- Original formulation by Dirac based on analogy with classical Hamiltonian  \n",
    "- Recent tests  "
   ]
  },
  {
   "cell_type": "markdown",
   "metadata": {},
   "source": [
    "## Overview\n",
    "\n",
    "The subject of non-locality and indeterminism in quantum mechanics is very interesting and continues to be a relevant discussion, although only insofar as validating the vericity under which many modern technologies operate, such as quantum computing and quantum cryptography.  It is somewhat remarkable that Einstein, who himself radically changed the understanding of the physical world with his work in relativity, would be opposed to the predictions (and experimental verifications) of quantum mechanics.  Once the once thought to be absolutes such as time and space became malleable according to relativity, why would the introduction of indeterminism (\"God does not play dice\") and non-locality (\"spooky action at a distance\") be any different?  At that point, our human powers of intuition are no longer general guides, and mathematical reasoning and experimental verification are the basis for prediction and interpretation of the physical world.\n",
    "\n",
    "The purpose of this note is to organize in one place the arguments, basically restating, of John Bell and then tying it to other references both before and after Bell's 1964 paper:  https://journals.aps.org/ppf/pdf/10.1103/PhysicsPhysiqueFizika.1.195"
   ]
  },
  {
   "cell_type": "markdown",
   "metadata": {},
   "source": [
    "## Bell's Arguments\n",
    "\n",
    "The core of Bell's argument is that the following expressions cannot be equal as shown below:\n",
    "\n",
    "$$ \\int d \\lambda \\rho(\\lambda) A(\\vec a,\\lambda)B(\\vec b,\\lambda) \\ne <\\vec \\sigma_1 \\cdot \\vec a \\space \\space \\vec \\sigma_2 \\cdot \\vec b > $$"
   ]
  },
  {
   "cell_type": "markdown",
   "metadata": {},
   "source": [
    "## EPR Paradox"
   ]
  },
  {
   "cell_type": "markdown",
   "metadata": {},
   "source": [
    "## Bohm's Hidden Variables"
   ]
  },
  {
   "cell_type": "markdown",
   "metadata": {},
   "source": [
    "## Original Formulation of Dirac based on Analogy with Classical Hamiltonian Theory"
   ]
  },
  {
   "cell_type": "markdown",
   "metadata": {},
   "source": [
    "## Recent tests"
   ]
  },
  {
   "cell_type": "code",
   "execution_count": null,
   "metadata": {},
   "outputs": [],
   "source": []
  }
 ],
 "metadata": {
  "kernelspec": {
   "display_name": "Python 3",
   "language": "python",
   "name": "python3"
  },
  "language_info": {
   "codemirror_mode": {
    "name": "ipython",
    "version": 3
   },
   "file_extension": ".py",
   "mimetype": "text/x-python",
   "name": "python",
   "nbconvert_exporter": "python",
   "pygments_lexer": "ipython3",
   "version": "3.6.8"
  }
 },
 "nbformat": 4,
 "nbformat_minor": 2
}
